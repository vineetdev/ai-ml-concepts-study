{
 "cells": [
  {
   "cell_type": "markdown",
   "id": "80da6f16",
   "metadata": {},
   "source": [
    "Module 1 Project trial code"
   ]
  },
  {
   "cell_type": "code",
   "execution_count": 2,
   "id": "66dfb722",
   "metadata": {},
   "outputs": [
    {
     "name": "stdout",
     "output_type": "stream",
     "text": [
      "c:\\Users\\vinee\\AppData\\Local\\Programs\\Python\\Python313\\python.exe\n"
     ]
    }
   ],
   "source": [
    "import sys\n",
    "print(sys.executable)"
   ]
  },
  {
   "cell_type": "markdown",
   "id": "dcc0aec0",
   "metadata": {},
   "source": [
    "3.1 MNIST DATASET   \n",
    "\n",
    "Load the dataset\n",
    "Use 2000 samples from the test dataset and normalize the values of pixels"
   ]
  },
  {
   "cell_type": "code",
   "execution_count": 21,
   "id": "14dc4b38",
   "metadata": {},
   "outputs": [],
   "source": [
    "import numpy as np\n",
    "import matplotlib.pyplot as plt\n",
    "from tensorflow.keras.datasets import mnist"
   ]
  },
  {
   "cell_type": "code",
   "execution_count": 22,
   "id": "e0446664",
   "metadata": {},
   "outputs": [],
   "source": [
    "#Load the MNIST dataset \n",
    "(train_images, train_labels), (test_images, test_labels) = mnist.load_data()"
   ]
  },
  {
   "cell_type": "code",
   "execution_count": 23,
   "id": "616a2306",
   "metadata": {},
   "outputs": [
    {
     "name": "stdout",
     "output_type": "stream",
     "text": [
      "train_images: <class 'numpy.ndarray'> (60000, 28, 28) uint8\n",
      "train_labels: <class 'numpy.ndarray'> (60000,) uint8\n",
      "test_images: <class 'numpy.ndarray'> (10000, 28, 28) uint8\n",
      "test_labels: <class 'numpy.ndarray'> (10000,) uint8\n"
     ]
    }
   ],
   "source": [
    "#Understand the dataset\n",
    "print(\"train_images:\", type(train_images), train_images.shape, train_images.dtype)\n",
    "print(\"train_labels:\", type(train_labels), train_labels.shape, train_labels.dtype)\n",
    "\n",
    "print(\"test_images:\", type(test_images), test_images.shape, test_images.dtype)\n",
    "print(\"test_labels:\", type(test_labels), test_labels.shape, test_labels.dtype)"
   ]
  },
  {
   "cell_type": "code",
   "execution_count": 24,
   "id": "fe1119f8",
   "metadata": {},
   "outputs": [
    {
     "name": "stdout",
     "output_type": "stream",
     "text": [
      "labels is  [5 0 4 ... 5 6 8]\n",
      "shape of each train image is  (28, 28)\n",
      "train image at 0 is [[  0   0   0   0   0   0   0   0   0   0   0   0   0   0   0   0   0   0\n",
      "    0   0   0   0   0   0   0   0   0   0]\n",
      " [  0   0   0   0   0   0   0   0   0   0   0   0   0   0   0   0   0   0\n",
      "    0   0   0   0   0   0   0   0   0   0]\n",
      " [  0   0   0   0   0   0   0   0   0   0   0   0   0   0   0   0   0   0\n",
      "    0   0   0   0   0   0   0   0   0   0]\n",
      " [  0   0   0   0   0   0   0   0   0   0   0   0   0   0   0   0   0   0\n",
      "    0   0   0   0   0   0   0   0   0   0]\n",
      " [  0   0   0   0   0   0   0   0   0   0   0   0   0   0   0   0   0   0\n",
      "    0   0   0   0   0   0   0   0   0   0]\n",
      " [  0   0   0   0   0   0   0   0   0   0   0   0   3  18  18  18 126 136\n",
      "  175  26 166 255 247 127   0   0   0   0]\n",
      " [  0   0   0   0   0   0   0   0  30  36  94 154 170 253 253 253 253 253\n",
      "  225 172 253 242 195  64   0   0   0   0]\n",
      " [  0   0   0   0   0   0   0  49 238 253 253 253 253 253 253 253 253 251\n",
      "   93  82  82  56  39   0   0   0   0   0]\n",
      " [  0   0   0   0   0   0   0  18 219 253 253 253 253 253 198 182 247 241\n",
      "    0   0   0   0   0   0   0   0   0   0]\n",
      " [  0   0   0   0   0   0   0   0  80 156 107 253 253 205  11   0  43 154\n",
      "    0   0   0   0   0   0   0   0   0   0]\n",
      " [  0   0   0   0   0   0   0   0   0  14   1 154 253  90   0   0   0   0\n",
      "    0   0   0   0   0   0   0   0   0   0]\n",
      " [  0   0   0   0   0   0   0   0   0   0   0 139 253 190   2   0   0   0\n",
      "    0   0   0   0   0   0   0   0   0   0]\n",
      " [  0   0   0   0   0   0   0   0   0   0   0  11 190 253  70   0   0   0\n",
      "    0   0   0   0   0   0   0   0   0   0]\n",
      " [  0   0   0   0   0   0   0   0   0   0   0   0  35 241 225 160 108   1\n",
      "    0   0   0   0   0   0   0   0   0   0]\n",
      " [  0   0   0   0   0   0   0   0   0   0   0   0   0  81 240 253 253 119\n",
      "   25   0   0   0   0   0   0   0   0   0]\n",
      " [  0   0   0   0   0   0   0   0   0   0   0   0   0   0  45 186 253 253\n",
      "  150  27   0   0   0   0   0   0   0   0]\n",
      " [  0   0   0   0   0   0   0   0   0   0   0   0   0   0   0  16  93 252\n",
      "  253 187   0   0   0   0   0   0   0   0]\n",
      " [  0   0   0   0   0   0   0   0   0   0   0   0   0   0   0   0   0 249\n",
      "  253 249  64   0   0   0   0   0   0   0]\n",
      " [  0   0   0   0   0   0   0   0   0   0   0   0   0   0  46 130 183 253\n",
      "  253 207   2   0   0   0   0   0   0   0]\n",
      " [  0   0   0   0   0   0   0   0   0   0   0   0  39 148 229 253 253 253\n",
      "  250 182   0   0   0   0   0   0   0   0]\n",
      " [  0   0   0   0   0   0   0   0   0   0  24 114 221 253 253 253 253 201\n",
      "   78   0   0   0   0   0   0   0   0   0]\n",
      " [  0   0   0   0   0   0   0   0  23  66 213 253 253 253 253 198  81   2\n",
      "    0   0   0   0   0   0   0   0   0   0]\n",
      " [  0   0   0   0   0   0  18 171 219 253 253 253 253 195  80   9   0   0\n",
      "    0   0   0   0   0   0   0   0   0   0]\n",
      " [  0   0   0   0  55 172 226 253 253 253 253 244 133  11   0   0   0   0\n",
      "    0   0   0   0   0   0   0   0   0   0]\n",
      " [  0   0   0   0 136 253 253 253 212 135 132  16   0   0   0   0   0   0\n",
      "    0   0   0   0   0   0   0   0   0   0]\n",
      " [  0   0   0   0   0   0   0   0   0   0   0   0   0   0   0   0   0   0\n",
      "    0   0   0   0   0   0   0   0   0   0]\n",
      " [  0   0   0   0   0   0   0   0   0   0   0   0   0   0   0   0   0   0\n",
      "    0   0   0   0   0   0   0   0   0   0]\n",
      " [  0   0   0   0   0   0   0   0   0   0   0   0   0   0   0   0   0   0\n",
      "    0   0   0   0   0   0   0   0   0   0]]\n"
     ]
    }
   ],
   "source": [
    "#See what the dataset contains\n",
    "print(\"labels is \" ,train_labels) \n",
    "print(\"shape of each train image is \" , train_images[0].shape)\n",
    "print(\"train image at 0 is\" ,train_images[0])\n"
   ]
  },
  {
   "cell_type": "code",
   "execution_count": 25,
   "id": "3bb03f9e",
   "metadata": {},
   "outputs": [
    {
     "data": {
      "text/plain": [
       "(2000, 28, 28)"
      ]
     },
     "execution_count": 25,
     "metadata": {},
     "output_type": "execute_result"
    }
   ],
   "source": [
    "#Use the first 2000 samples from the dataset\n",
    "num_samples = 2000\n",
    "\n",
    "#Extract the first 2000 samples from the dataset\n",
    "test_data = test_images[:num_samples]\n",
    "test_data.shape"
   ]
  },
  {
   "cell_type": "code",
   "execution_count": 26,
   "id": "63ffa606",
   "metadata": {},
   "outputs": [],
   "source": [
    "#Scale the pixel values to the range [0, 1]\n",
    "test_data = test_data.astype('float32')/255.0"
   ]
  },
  {
   "cell_type": "markdown",
   "id": "cba3c919",
   "metadata": {},
   "source": [
    "3.2 Data Preprocessing\n",
    "\n",
    "Each image is flattened into a vector of size 784 (28x28). A matrix X ∈ R 2000×784 is created, where each row represents a flattened image."
   ]
  },
  {
   "cell_type": "code",
   "execution_count": 27,
   "id": "08e5fbe3",
   "metadata": {},
   "outputs": [
    {
     "name": "stdout",
     "output_type": "stream",
     "text": [
      "(2000, 784)\n"
     ]
    }
   ],
   "source": [
    "#Flatten the data\n",
    "flattened_data = test_data.reshape(num_samples, 28*28)\n",
    "\n",
    "print(flattened_data.shape)\n"
   ]
  },
  {
   "cell_type": "code",
   "execution_count": 28,
   "id": "0e62e6d2",
   "metadata": {},
   "outputs": [
    {
     "name": "stdout",
     "output_type": "stream",
     "text": [
      "(2000, 784)\n"
     ]
    }
   ],
   "source": [
    "#Prepare a matrix using the flattened data \n",
    "X = flattened_data\n",
    "print(X.shape)"
   ]
  },
  {
   "cell_type": "markdown",
   "id": "3717a653",
   "metadata": {},
   "source": [
    "3.3 Eigen Decomposition \n",
    "\n",
    "We compute the sample covariance matrix of X and perform eigen decomposition. The eigenvalues represent the variance explained by each principal component."
   ]
  },
  {
   "cell_type": "code",
   "execution_count": 29,
   "id": "09fa85cc",
   "metadata": {},
   "outputs": [
    {
     "name": "stdout",
     "output_type": "stream",
     "text": [
      "(784, 784)\n"
     ]
    }
   ],
   "source": [
    "# Calculate the sample covariance matrix of X\n",
    "C = np.cov(X.T)\n",
    "print(C.shape)"
   ]
  },
  {
   "cell_type": "code",
   "execution_count": 30,
   "id": "bb1fc770",
   "metadata": {},
   "outputs": [
    {
     "name": "stdout",
     "output_type": "stream",
     "text": [
      "Shape of eigenvalues is  (784,)\n",
      "Shape of eigenvectors is  (784, 784)\n"
     ]
    }
   ],
   "source": [
    "# Perform eigen decomposition\n",
    "eigenvalues, eigenvectors = np.linalg.eigh(C)\n",
    "\n",
    "print(\"Shape of eigenvalues is \", eigenvalues.shape)\n",
    "print(\"Shape of eigenvectors is \", eigenvectors.shape)"
   ]
  },
  {
   "cell_type": "markdown",
   "id": "9c035b0b",
   "metadata": {},
   "source": [
    "TASK1\n",
    "\n",
    "Use the eigenvalues to calculate the percentage of variance explained. Plot the cumulative sum of these percentages versus the number of components."
   ]
  },
  {
   "cell_type": "code",
   "execution_count": 76,
   "id": "4f5fb7b5",
   "metadata": {},
   "outputs": [],
   "source": [
    "#print(\"Eigenvalues are \", eigenvalues)\n",
    "#print(\"Eigenvectors are \", eigenvectors)"
   ]
  },
  {
   "cell_type": "code",
   "execution_count": null,
   "id": "b7277677",
   "metadata": {},
   "outputs": [
    {
     "name": "stdout",
     "output_type": "stream",
     "text": [
      "Sorted eigenvalues (first 10): [4.80597342 3.73955757 2.9241815  2.47317793 2.35264162 1.95582307\n",
      " 1.6078875  1.38815103 1.32126722 1.09577512]\n"
     ]
    }
   ],
   "source": [
    "# Sort eigenvalues and eigenvectors in descending order\n",
    "sorted_indices = np.argsort(eigenvalues)[::-1]\n",
    "sorted_eigenvalues = eigenvalues[sorted_indices]\n",
    "#print(\"Sorted eigenvalues are \", sorted_eigenvalues)\n",
    "\n",
    "sorted_eigenvectors = eigenvectors[:, sorted_indices]\n",
    "\n",
    "#print(f'Sorted eigenvalues (first 10): {sorted_eigenvalues[:10]}')"
   ]
  },
  {
   "cell_type": "code",
   "execution_count": null,
   "id": "2d0f3b17",
   "metadata": {},
   "outputs": [
    {
     "name": "stdout",
     "output_type": "stream",
     "text": [
      "Total variance is  49.47610265635571\n"
     ]
    },
    {
     "data": {
      "image/png": "[encoded data removed]",
      "text/plain": [
       "<Figure size 1000x600 with 1 Axes>"
      ]
     },
     "metadata": {},
     "output_type": "display_data"
    }
   ],
   "source": [
    "#Calculate the total variance \n",
    "total_variance = np.sum(sorted_eigenvalues)\n",
    "print(\"Total variance is \", total_variance)\n",
    "\n",
    "# Calculate the percentage of variance explained by each principal component\n",
    "variance_percentage = (sorted_eigenvalues/total_variance)*100\n",
    "\n",
    "# Calculate the cumulative variance percentage\n",
    "cumulative_variance = np.cumsum(variance_percentage)\n",
    "#print(\"Cumulative variance is \", cumulative_variance)\n",
    "\n",
    "# Plot the cumulative variance percentage\n",
    "plt.figure(figsize=(10, 6))\n",
    "plt.plot(cumulative_variance, marker='o')\n",
    "plt.title('Cumulative Variance Explained Vs Number of Components')\n",
    "plt.xlabel('Number of Principal Components')\n",
    "plt.ylabel('Cumulative Variance Explained (%)')\n",
    "plt.grid(True)\n",
    "plt.show()"
   ]
  },
  {
   "cell_type": "markdown",
   "id": "61c6f561",
   "metadata": {},
   "source": [
    "Above graph tells us that by using only the first 250 components, we can capture a significant amount of the total variance."
   ]
  },
  {
   "cell_type": "markdown",
   "id": "54bfab4f",
   "metadata": {},
   "source": [
    "TASK 2: PCA for Dimensionality reduction"
   ]
  },
  {
   "cell_type": "code",
   "execution_count": 69,
   "id": "72f58dd3",
   "metadata": {},
   "outputs": [
    {
     "name": "stdout",
     "output_type": "stream",
     "text": [
      "Reduced data shape with 50 components: (2000, 50)\n",
      "Reduced data shape with 250 components: (2000, 250)\n",
      "Reduced data shape with 500 components: (2000, 500)\n"
     ]
    }
   ],
   "source": [
    "p_values = [50, 250, 500]\n",
    "\n",
    "#Perform Dimensionality Reduction using PCA\n",
    "reduced_data = {}\n",
    "for p in p_values:\n",
    "    #Select the top p eigenvectors\n",
    "    top_p_eigenvectors = eigenvectors[:, -p:]\n",
    "\n",
    "    #Project the data onto the top p eigenvectors\n",
    "    reduced_data[p] = np.dot(X, top_p_eigenvectors)\n",
    "    print(f'Reduced data shape with {p} components: {reduced_data[p].shape}')"
   ]
  },
  {
   "cell_type": "markdown",
   "id": "8160c313",
   "metadata": {},
   "source": [
    "We see that the components get reduced by the value of chosen p"
   ]
  },
  {
   "cell_type": "markdown",
   "id": "06f2ea1e",
   "metadata": {},
   "source": [
    "Task 3: Data Reconstruction\n",
    "Using the reduced data from Task 2, reconstruct the original images. Use the property\n",
    "of orthonormal matrices for reconstruction."
   ]
  },
  {
   "cell_type": "code",
   "execution_count": 70,
   "id": "4ff7d919",
   "metadata": {},
   "outputs": [
    {
     "name": "stdout",
     "output_type": "stream",
     "text": [
      "Reduced data shape with 50 components: (2000, 50)\n",
      "Reduced data shape with 250 components: (2000, 250)\n",
      "Reduced data shape with 500 components: (2000, 500)\n"
     ]
    },
    {
     "data": {
      "image/png": "[encoded data removed]",
      "text/plain": [
       "<Figure size 1200x400 with 4 Axes>"
      ]
     },
     "metadata": {},
     "output_type": "display_data"
    }
   ],
   "source": [
    "p_values = [50, 250, 500]\n",
    "\n",
    "# Perform Dimensionality Reduction using PCA \n",
    "# And Data Reconstruction\n",
    "reduced_data = {}\n",
    "reconstructed_images = {}\n",
    "for p in p_values:\n",
    "    #Select the top p eigenvectors\n",
    "    top_p_eigenvectors = eigenvectors[:, -p:]\n",
    "\n",
    "    #Project the data onto the top p eigenvectors\n",
    "    reduced_data[p] = np.dot(X, top_p_eigenvectors)\n",
    "    print(f'Reduced data shape with {p} components: {reduced_data[p].shape}')\n",
    "    \n",
    "    reconstructed = np.dot(reduced_data[p], top_p_eigenvectors.T)\n",
    "    reconstructed_images[p] = reconstructed.reshape(num_samples, 28, 28)\n",
    "    #print(f'Reconstructed images shape with {p} components: {reconstructed_images[p].shape}')\n",
    "    \n",
    "    \n",
    "# Display original and reconstructed images for comparison\n",
    "img_index = 100  # Change this index to view different images\n",
    "plt.figure(figsize=(12, 4))\n",
    "plt.subplot(1, len(p_values) + 1, 1)\n",
    "plt.title('Original Image')\n",
    "plt.imshow(test_data[img_index], cmap='gray')\n",
    "plt.axis('off')\n",
    "\n",
    "for i, p in enumerate(p_values):\n",
    "    plt.subplot(1, len(p_values) + 1, i + 2)\n",
    "    plt.title(f'Reconstructed with p={p}')\n",
    "    plt.imshow(reconstructed_images[p][img_index], cmap='gray')\n",
    "    plt.axis('off')\n",
    "plt.tight_layout()\n",
    "plt.show()\n",
    "    \n",
    "    "
   ]
  },
  {
   "cell_type": "markdown",
   "id": "38204244",
   "metadata": {},
   "source": [
    "Task 4: Error Comparison (PSNR)\n",
    "\n",
    "Compare the error between the original and reconstructed images for 5 randomly selected\n",
    "images using Peak Signal-to-Noise Ratio (PSNR)."
   ]
  },
  {
   "cell_type": "code",
   "execution_count": 71,
   "id": "24775de8",
   "metadata": {},
   "outputs": [],
   "source": [
    "def PSNR(original, compressed):\n",
    "    mse = np.mean((original - compressed) ** 2)\n",
    "    if(mse == 0):  # MSE is zero means no noise is present in the signal .\n",
    "                  # Therefore PSNR have no importance.\n",
    "        return 100\n",
    "    max_pixel = 255.0\n",
    "    psnr = 20 * log10(max_pixel / sqrt(mse))\n",
    "    return psnr"
   ]
  },
  {
   "cell_type": "code",
   "execution_count": 72,
   "id": "137528dc",
   "metadata": {},
   "outputs": [
    {
     "name": "stdout",
     "output_type": "stream",
     "text": [
      "Randomly selected image indices for PSNR comparison: [1292 1350 1856 1723 1509]\n",
      "\n",
      "PSNR values for reconstructed images with p=50:\n",
      "Image index 1292: PSNR = 69.14 dB\n",
      "Image index 1350: PSNR = 73.26 dB\n",
      "Image index 1856: PSNR = 65.26 dB\n",
      "Image index 1723: PSNR = 69.61 dB\n",
      "Image index 1509: PSNR = 66.27 dB\n",
      "\n",
      "PSNR values for reconstructed images with p=250:\n",
      "Image index 1292: PSNR = 78.55 dB\n",
      "Image index 1350: PSNR = 86.23 dB\n",
      "Image index 1856: PSNR = 75.72 dB\n",
      "Image index 1723: PSNR = 78.65 dB\n",
      "Image index 1509: PSNR = 76.21 dB\n",
      "\n",
      "PSNR values for reconstructed images with p=500:\n",
      "Image index 1292: PSNR = 101.25 dB\n",
      "Image index 1350: PSNR = 109.03 dB\n",
      "Image index 1856: PSNR = 92.90 dB\n",
      "Image index 1723: PSNR = 101.29 dB\n",
      "Image index 1509: PSNR = 97.69 dB\n",
      "\n",
      "Summary of PSNR values for different p values:\n",
      "p=50: PSNR values = [69.13520065865112, 73.26384208866995, 65.25997134026485, 69.60894906357355, 66.2713558016691]\n",
      "p=250: PSNR values = [78.54871920064866, 86.23378876891393, 75.71731774289043, 78.6466440650833, 76.21357090688822]\n",
      "p=500: PSNR values = [101.25491145250847, 109.02650528458327, 92.90231178824527, 101.29049832314553, 97.68858729884803]\n"
     ]
    }
   ],
   "source": [
    "from math import log10, sqrt\n",
    "\n",
    "random_indices = np.random.choice(num_samples, size=5, replace=False)\n",
    "print(\"Randomly selected image indices for PSNR comparison:\", random_indices)\n",
    "\n",
    "psnr_results = {}\n",
    "for p in p_values:\n",
    "    print(f'\\nPSNR values for reconstructed images with p={p}:')\n",
    "    psnr_values = []\n",
    "    for idx in random_indices:\n",
    "        original = test_data[idx]\n",
    "        reconstructed = reconstructed_images[p][idx]\n",
    "        \n",
    "        psnr_value = PSNR(original, reconstructed)\n",
    "        print(f'Image index {idx}: PSNR = {psnr_value:.2f} dB')\n",
    "        psnr_values.append(psnr_value)\n",
    "    psnr_results[p] = psnr_values\n",
    "\n",
    "#Print PSNR results\n",
    "print(\"\\nSummary of PSNR values for different p values:\")\n",
    "for p in p_values:\n",
    "    print(f'p={p}: PSNR values = {psnr_results[p]}')"
   ]
  },
  {
   "cell_type": "markdown",
   "id": "b2ac45a1",
   "metadata": {},
   "source": [
    "TAKEAWAY: Higher PSNR values suggest less reconstruction error."
   ]
  }
 ],
 "metadata": {
  "kernelspec": {
   "display_name": "Python 3",
   "language": "python",
   "name": "python3"
  },
  "language_info": {
   "codemirror_mode": {
    "name": "ipython",
    "version": 3
   },
   "file_extension": ".py",
   "mimetype": "text/x-python",
   "name": "python",
   "nbconvert_exporter": "python",
   "pygments_lexer": "ipython3",
   "version": "3.13.1"
  }
 },
 "nbformat": 4,
 "nbformat_minor": 5
}
